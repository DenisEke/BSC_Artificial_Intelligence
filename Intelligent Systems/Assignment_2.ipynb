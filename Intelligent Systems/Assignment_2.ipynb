{
 "cells": [
  {
   "cell_type": "markdown",
   "metadata": {
    "id": "tINpJu8kaGw1"
   },
   "source": [
    "# Intelligent Systems 2020: Second practical assignment \n",
    "## Informed Search "
   ]
  },
  {
   "cell_type": "markdown",
   "metadata": {
    "id": "VmFqUpr1aGw5"
   },
   "source": [
    "Your name: Denis Ekert\n",
    "\n",
    "Your VUNetID: det290\n",
    "\n",
    "If you do not provide your name and VUNetID we will not accept your submission. \n",
    "\n",
    "### Learning objectives\n",
    "At the end of this exercise you should be able to understand the implementations of the basic algorithms for informed search. You should be able to: \n",
    "\n",
    "1. Understand the algorithms (be able to explain in your own words) \n",
    "2. Follow the individual steps of the algorithms\n",
    "3. Make small modifications of the code to see the effect on the search algorithms\n",
    "4. Make small adaptations to the algorithm to study the computational properties\n",
    "\n",
    "### Practicalities\n",
    "\n",
    "Follow this Notebook step-by-step. \n",
    "\n",
    "Of course, you can do the exercises in any Programming Editor of your liking. \n",
    "But you do not have to. Feel free to simply write code in the Notebook. Please use your studentID+Assignment2.ipynb as the name of the \n",
    "Notebook.  \n",
    "\n",
    "Note: unlike the courses dedicated to programming we will not evaluate the style of the programs. But we will, however, test your programs on other data that we provide, and your program should give the correct output to the test-data as well.\n",
    "\n",
    "As was mentioned, the assignment is graded as pass/fail. To pass you need to have either a full working code or an explanation of what you tried and what didn't work for the tasks that you were unable to complete (you can use multi-line comments or a text cell).\n",
    "\n",
    "## Initialising \n",
    "\n",
    "First, let us make sure the necessary packages are installed, and imported. Run the following code:"
   ]
  },
  {
   "cell_type": "code",
   "execution_count": 1,
   "metadata": {
    "colab": {
     "base_uri": "https://localhost:8080/"
    },
    "id": "qlzjhGBlaGw6",
    "outputId": "983e361c-4f95-4a48-ad86-bc582c2e8316"
   },
   "outputs": [
    {
     "name": "stdout",
     "output_type": "stream",
     "text": [
      "Requirement already satisfied: numpy in c:\\python38\\lib\\site-packages (1.18.3)\n"
     ]
    }
   ],
   "source": [
    "import sys\n",
    "!{sys.executable} -m pip install numpy\n",
    "import datetime\n",
    "import functools\n",
    "import heapq\n",
    "import numpy as np\n",
    "from numpy import random\n",
    "from collections import deque\n",
    "\n",
    "from utils import *\n",
    "\n",
    "# This might produce a warning that numpy is already installed. "
   ]
  },
  {
   "cell_type": "markdown",
   "metadata": {
    "id": "7YLNfckmaGw9"
   },
   "source": [
    "## Starting your first game"
   ]
  },
  {
   "cell_type": "code",
   "execution_count": 2,
   "metadata": {
    "id": "Bs9RGIakaGw-"
   },
   "outputs": [],
   "source": [
    "HAND_SIZE = 5   \n",
    "STUDENT_NUMBER = 2716396"
   ]
  },
  {
   "cell_type": "markdown",
   "metadata": {
    "id": "_de35OKkaGxA"
   },
   "source": [
    "With the constant HAND_SIZE we decide how many cards we want in our hand. \n",
    "By default it is set to 5, you can change it to any hand size, \n",
    "do keep in mind that the higher the number of cards in your hand, \n",
    "the more branches in the search tree there are, and the longer it will take to run.\n",
    "\n",
    "Your student number is used to set a random seed.\n",
    "There are situations imaginable where you want a pseudo random selection (for example when debugging it's nice to always work with the same values)\n",
    "In short, the seed ensures that you get a pseudo random distribution that will always be the same when you re-run the code.\n",
    "It is a random distribution because you don't have to hard code them in yourself, \n",
    "but it is not random in the sense that the next time you run it you get different cards!\n",
    "For more information on pseudo random number generators, \n",
    "check out https://www.geeksforgeeks.org/pseudo-random-number-generator-prng/."
   ]
  },
  {
   "cell_type": "markdown",
   "metadata": {
    "id": "AJwjIRy7aGxB"
   },
   "source": [
    "### Updated representation\n",
    "\n",
    "You may wonder how the cards for this game are represented. \n",
    "Go to utils and find out in which variable this information is found, print this variable below:"
   ]
  },
  {
   "cell_type": "code",
   "execution_count": 3,
   "metadata": {
    "colab": {
     "base_uri": "https://localhost:8080/"
    },
    "id": "e9PlznxRaGxB",
    "outputId": "6f68a552-d6be-4195-9e71-f9ed7d1b2ee9"
   },
   "outputs": [
    {
     "name": "stdout",
     "output_type": "stream",
     "text": [
      "\n",
      "        h  d  s  c\n",
      "ace  [[ 0  1  2  3]  = 11pts     h = hearts\n",
      "ten   [ 4  5  6  7]  = 10pts     d = diamonds\n",
      "king  [ 8  9 10 11]  = 4pts      s = spades\n",
      "queen [12 13 14 15]  = 3pts      c = clubs\n",
      "jack  [16 17 18 19]] = 2pts\n",
      "For example: '10' is 'king of spades'\n",
      "\n"
     ]
    }
   ],
   "source": [
    "print(representation)"
   ]
  },
  {
   "cell_type": "markdown",
   "metadata": {
    "id": "AvBTcIHcaGxD"
   },
   "source": [
    "Note that cards have values now w.r.t. the game from Assignment 1"
   ]
  },
  {
   "cell_type": "markdown",
   "metadata": {
    "id": "7feVLL_4aGxE"
   },
   "source": [
    "### Some support functions "
   ]
  },
  {
   "cell_type": "markdown",
   "metadata": {
    "id": "DFxMf1mPaGxE"
   },
   "source": [
    "Next, there are some functions we need for the implementation. Try to get the gist of what they do, but if you do not understand fully, don't worry. The first one returns the points value of a card, the second tests whether a move is valid (so whether a card follows suit, or has the same value). The third is a helper function that checks whether two cards have the same suit, and the fourth function checks whether two cards have the same value. The last one makes a random choice of cards in the hands. \n",
    "\n",
    "We don't expect you to fully understand the coding behind these functions, however, if you are interested you might find the following link useful: https://www.programiz.com/python-programming/matrix. Take a look at how Python Matrices are created and how to access rows and columns. "
   ]
  },
  {
   "cell_type": "code",
   "execution_count": 4,
   "metadata": {
    "id": "yiOK8rUyaGxF"
   },
   "outputs": [],
   "source": [
    "def get_points(cardA):\n",
    "    g = np.arange(20).reshape(5, 4) #this produces the same grid as the representation\n",
    "    if (np.any(g[0] == cardA)): #Ace (11)\n",
    "        return 11\n",
    "    elif (np.any(g[1] == cardA)): #Ten (10)\n",
    "        return 10\n",
    "    elif (np.any(g[2] == cardA)): #King (4)\n",
    "        return 4\n",
    "    elif (np.any(g[3] == cardA)): #Queen (3)\n",
    "        return 3\n",
    "    elif (np.any(g[4] == cardA)): #Jack (2)\n",
    "        return 2\n",
    "\n",
    "def valid_move(cardA, cardB):\n",
    "    #print(\"validMove: comparing \" + str(cardA) + \" to \" + str(cardB)) UNCOMMENT THIS TO SEE WHICH CARDS ARE BEING COMPARED\n",
    "    g = np.arange(20).reshape(5, 4) #this produces the same grid as the representation, for the purpose of checking moves\n",
    "    if check_value(cardA, cardB, g):\n",
    "        return True\n",
    "    elif check_suit(cardA, cardB, g):\n",
    "        return True\n",
    "    else:\n",
    "        #print(\"validMove: No move found\")\n",
    "        return False\n",
    "\n",
    "def check_suit(cardA, cardB, grid):\n",
    "    r, c = grid.shape\n",
    "    for i in range(c):\n",
    "        if np.any(grid[:, i] == cardA) and np.any(grid[:, i] == cardB):\n",
    "            return True\n",
    "\n",
    "def check_value(cardA, cardB, grid):\n",
    "    r, c = grid.shape\n",
    "    for i in range(r):\n",
    "        if np.any(grid[i] == cardA) and np.any(grid[i] == cardB):\n",
    "            return True\n",
    "\n",
    "def pick_cards(seed, size):\n",
    "    random.seed(seed)\n",
    "    cards = np.random.choice(20, (size*2), replace = False)\n",
    "    leftHand = cards[:size]\n",
    "    rightHand = cards[size:]\n",
    "    return (leftHand, rightHand)"
   ]
  },
  {
   "cell_type": "markdown",
   "metadata": {
    "id": "ruSoKXz6aGxH"
   },
   "source": [
    "### Breadth, and Depth First Search"
   ]
  },
  {
   "cell_type": "markdown",
   "metadata": {
    "id": "wg8w2i3yaGxH"
   },
   "source": [
    "From assignment 1 we are already familiar with the Breadth First and Depth First search algorithms. See the code below:"
   ]
  },
  {
   "cell_type": "code",
   "execution_count": 5,
   "metadata": {
    "id": "rG5X695JaGxI"
   },
   "outputs": [],
   "source": [
    "def breadth_first_tree_search(problem):\n",
    "    \"\"\"\n",
    "    Search the shallowest nodes in the search tree first.\n",
    "    Search through the successors of a problem to find a goal.\n",
    "    The argument fringe should be an empty queue.\n",
    "    Repeats infinitely in case of loops.\n",
    "    \"\"\"\n",
    "    fringe = deque([Node(problem.initial)])  # FIFO queue\n",
    "\n",
    "    counter=0\n",
    "\n",
    "    while fringe:\n",
    "        node = fringe.popleft()\n",
    "        if problem.goal_test(node.state):\n",
    "            print(\"###########\")\n",
    "            print(\"success!\")\n",
    "            print(\"solution: {}\".format(node.solution()))\n",
    "            print(\"{} Nodes generated\".format(counter))\n",
    "            return node\n",
    "        new_nodes=node.expand(problem)\n",
    "        counter+=len(new_nodes)\n",
    "        fringe.extend(new_nodes)\n",
    "    print(\"###########\")\n",
    "    print(\"unfortunately no solution has been found!\")\n",
    "    print(\"{} Nodes generated\".format(counter))\n",
    "    return None"
   ]
  },
  {
   "cell_type": "code",
   "execution_count": 6,
   "metadata": {
    "id": "rVMPz1-TaGxK"
   },
   "outputs": [],
   "source": [
    "def depth_first_tree_search(problem):\n",
    "    \"\"\"\n",
    "    Search the deepest nodes in the search tree first.\n",
    "    Search through the successors of a problem to find a goal.\n",
    "    The argument fringe should be an empty queue.\n",
    "    Repeats infinitely in case of loops.\n",
    "    \"\"\"\n",
    "    fringe = [Node(problem.initial)]  # Stack\n",
    "\n",
    "    counter=0\n",
    "    while fringe:\n",
    "        node = fringe.pop()\n",
    "        if problem.goal_test(node.state):\n",
    "            print(\"###########\")\n",
    "            print(\"succes!\")\n",
    "            print(\"solution: {}\".format(node.solution()))\n",
    "            print(\"{} Nodes generated\".format(counter))\n",
    "            return node\n",
    "        new_nodes=node.expand(problem)\n",
    "        counter+=len(new_nodes)\n",
    "        fringe.extend(new_nodes)\n",
    "    print(\"###########\")\n",
    "    print(\"unfortunately no solution has been found!\")\n",
    "    print(\"{} Nodes generated\".format(counter))\n",
    "    return None"
   ]
  },
  {
   "cell_type": "markdown",
   "metadata": {
    "id": "pgkH5IA2aGxM"
   },
   "source": [
    "### Preparing the game\n",
    "To run a search, we need to define an initial state. Run the cells below to generate hands automatically, or define a custom set of hands. Please note that if you use a custom set of hands, you need to replace 'leftHand' and 'rightHand' with 'customLeftHand' and 'customRightHand' at gamestate initialisation."
   ]
  },
  {
   "cell_type": "markdown",
   "metadata": {
    "id": "CVDHOoBlaGxN"
   },
   "source": [
    "The cell below generates the cards for your left and right hand."
   ]
  },
  {
   "cell_type": "code",
   "execution_count": 7,
   "metadata": {
    "colab": {
     "base_uri": "https://localhost:8080/"
    },
    "id": "9ugj5WQKaGxN",
    "outputId": "3ae0ae23-8de4-4654-996a-3608d4992563"
   },
   "outputs": [
    {
     "name": "stdout",
     "output_type": "stream",
     "text": [
      "Left hand: [13 16  6  0  9]\n",
      "Right hand: [ 2  5  3 11  4]\n"
     ]
    }
   ],
   "source": [
    "leftHand, rightHand = pick_cards(STUDENT_NUMBER, HAND_SIZE)\n",
    "#customLeftHand = []\n",
    "#customRightHand = []\n",
    "\n",
    "print(\"Left hand: {}\".format(leftHand)) #or customLeftHand\n",
    "print(\"Right hand: {}\".format(rightHand)) #or customRightHand"
   ]
  },
  {
   "cell_type": "markdown",
   "metadata": {
    "id": "KyVmX8klaGxP"
   },
   "source": [
    "Now we define an initial state, and the problem."
   ]
  },
  {
   "cell_type": "code",
   "execution_count": 12,
   "metadata": {
    "colab": {
     "base_uri": "https://localhost:8080/"
    },
    "id": "mwWHhUCbaGxQ",
    "outputId": "56ae29e6-b1bf-4ebb-daa2-7907a4d17b1f"
   },
   "outputs": [
    {
     "name": "stdout",
     "output_type": "stream",
     "text": [
      "------\n",
      "GameState: Printing state: \n",
      "Left hand: [13 16  6  0  9]\n",
      "Right hand: [ 2  5  3 11  4]\n",
      "Do we play from left hand to get to next state? True\n",
      "Points scored: 0\n",
      "All cards: [13, 16, 6, 0, 9, 2, 5, 3, 11, 4]\n",
      "All card points: [3, 2, 10, 11, 4, 11, 10, 11, 4, 10]\n",
      "------\n",
      "There are 33 points needed to win(reach goal state)\n",
      "There are 76 points in the game\n"
     ]
    }
   ],
   "source": [
    "initialState = GameState(leftHand, rightHand, True, True)\n",
    "initialState.printState()\n",
    "\n",
    "p = Problem(initialState)\n",
    "print(\"There are {} points needed to win(reach goal state)\".format(p.winPoints))\n",
    "print(\"There are {} points in the game\".format(sum(p.initial.allCardPoints)))\n"
   ]
  },
  {
   "cell_type": "markdown",
   "metadata": {
    "id": "bS4WjsHVaGxS"
   },
   "source": [
    "Comparing the points needed to win versus the total amount of points in the game, what do you notice?\n",
    "Return you (brief) findings to the string variable below:"
   ]
  },
  {
   "cell_type": "code",
   "execution_count": 11,
   "metadata": {
    "id": "uN3mKvz2aGxS"
   },
   "outputs": [],
   "source": [
    "myFindings = \"\"\"There are less than half the total points needed to win. \n",
    "As stated in the description of this assignment the points needed to win are \n",
    "calculated by the following formula: HANDSIZE * 6.6 (5 * 6.6 = 33).\n",
    "I don't really know what else to say about this.\n",
    "\"\"\""
   ]
  },
  {
   "cell_type": "markdown",
   "metadata": {
    "id": "Z9Uz6PG2aGxU"
   },
   "source": [
    "## Task 1:\n",
    "\n",
    "Run Breadth and Depth first search and implement a counter in the algorithm above that prints the number of nodes generated (as you did in the previous assignment, although now to print you must uncomment the print statements instead of formulating your own)."
   ]
  },
  {
   "cell_type": "code",
   "execution_count": 13,
   "metadata": {
    "colab": {
     "base_uri": "https://localhost:8080/"
    },
    "id": "4FVdR-nNaGxV",
    "outputId": "d850dd96-d115-40d7-ca82-42f1c4bb11ef"
   },
   "outputs": [
    {
     "name": "stdout",
     "output_type": "stream",
     "text": [
      "###########\n",
      "success!\n",
      "solution: [13, 5, 6, 2]\n",
      "47 Nodes generated\n",
      "The Breadth First Search Took 17955 Microseconds\n",
      "###########\n",
      "succes!\n",
      "solution: [9, 5, 6, 4]\n",
      "11 Nodes generated\n",
      "The Depth First Search Took 3988 Microseconds\n"
     ]
    }
   ],
   "source": [
    "startTime = datetime.datetime.now()\n",
    "breadth_first_tree_search(p)\n",
    "endTime = datetime.datetime.now()\n",
    "duration = endTime - startTime\n",
    "print(\"The Breadth First Search Took {} Microseconds\".format(duration.microseconds))\n",
    "\n",
    "startTime = datetime.datetime.now()\n",
    "depth_first_tree_search(p)\n",
    "endTime = datetime.datetime.now()\n",
    "duration = endTime - startTime\n",
    "print(\"The Depth First Search Took {} Microseconds\".format(duration.microseconds))\n",
    "\n"
   ]
  },
  {
   "cell_type": "markdown",
   "metadata": {
    "id": "Z85IsJmyaGxX"
   },
   "source": [
    "### Greedy Best First Search"
   ]
  },
  {
   "cell_type": "markdown",
   "metadata": {
    "id": "Npl7tLOgaGxX"
   },
   "source": [
    "See the code below for the Greedy Best First Search Algorithm"
   ]
  },
  {
   "cell_type": "code",
   "execution_count": 14,
   "metadata": {
    "id": "qNBMiVwUaGxX"
   },
   "outputs": [],
   "source": [
    "def greedy_best_first_search(problem, f, display=True):\n",
    "    \"\"\"Search the nodes with the lowest f scores first.\n",
    "    You specify the function f(node) that you want to minimize; for example,\n",
    "    if f is a heuristic estimate to the goal, then we have greedy best\n",
    "    first search; \"\"\"\n",
    "    f = memoize(f, 'f')\n",
    "    node = Node(problem.initial)\n",
    "    frontier = PriorityQueue('min', f)\n",
    "    frontier.append(node)\n",
    "    explored = set()\n",
    "\n",
    "    #my added counter\n",
    "    counter=0\n",
    "\n",
    "    while frontier:\n",
    "        node = frontier.pop()\n",
    "        if problem.goal_test(node.state):\n",
    "            if display:\n",
    "                print(\"Search succesful!\")\n",
    "                print(len(explored), \"paths have been expanded and\", len(frontier), \"paths remain in the frontier\")\n",
    "                print(\"solution: {}\".format(node.solution()))\n",
    "                print(\"{} Nodes generated\".format(counter))\n",
    "            return node\n",
    "        explored.add(node.state)\n",
    "\n",
    "        children=node.expand(problem)\n",
    "        counter+=len(children)\n",
    "        for child in children:\n",
    "            if child.state not in explored and child not in frontier:\n",
    "                frontier.append(child)\n",
    "            elif child in frontier:\n",
    "                if f(child) < frontier[child]:\n",
    "                    del frontier[child]\n",
    "                    frontier.append(child)\n",
    "    print(\"Search failed\")\n",
    "    print(\"{} Nodes generated\".format(counter))\n",
    "    return None"
   ]
  },
  {
   "cell_type": "markdown",
   "metadata": {
    "id": "si6iMLJ8aGxZ"
   },
   "source": [
    "## Task 2\n",
    "\n",
    "Run A Greedy Best First Search and implement a counter in the algorithm above that prints the number of nodes generated (as you did in the previous assignment, although now to print you must uncomment the print statements instead of formulating your own)."
   ]
  },
  {
   "cell_type": "code",
   "execution_count": 15,
   "metadata": {
    "colab": {
     "base_uri": "https://localhost:8080/"
    },
    "id": "k1GMQ0KgaGxa",
    "outputId": "1d56d704-8ea7-471e-9e4e-a5c821e8a786"
   },
   "outputs": [
    {
     "name": "stdout",
     "output_type": "stream",
     "text": [
      "Search succesful!\n",
      "4 paths have been expanded and 7 paths remain in the frontier\n",
      "solution: [0, 2, 6, 5]\n",
      "11 Nodes generated\n",
      "The Greedy Best First Search Took 4949 Microseconds\n"
     ]
    }
   ],
   "source": [
    "startTime = datetime.datetime.now()\n",
    "greedy_best_first_search(p, p.h, True)\n",
    "endTime = datetime.datetime.now()\n",
    "duration = endTime - startTime\n",
    "print(\"The Greedy Best First Search Took {} Microseconds\".format(duration.microseconds))"
   ]
  },
  {
   "cell_type": "markdown",
   "metadata": {
    "id": "MZG8qAc1aGxc"
   },
   "source": [
    "## Task 3 \n",
    "\n",
    "In what way do Depth First Search, Breadth First Search and Greedy Best First Search (using the distance to the goal as heuristic) differ?\n",
    "\n",
    "Return a (brief) report to the multi line string below, take into account the number of nodes counted from the counter you implemented:\n"
   ]
  },
  {
   "cell_type": "code",
   "execution_count": 16,
   "metadata": {
    "id": "BrrFSstFaGxd"
   },
   "outputs": [],
   "source": [
    "myReport1 = \"\"\" \n",
    "The first difference is that they all return different solutions. \n",
    "Greedy best first search starts with the cards which give a lot of \n",
    "points because this way it will come faster to the goal. \n",
    "Since the distance is lower to the goal is used as a heuristic.\n",
    "\n",
    "Computational time is about the same in GBFS and DFS with Greedy being slightly faster.\n",
    "BFS takes about 10 times longer which makes sense, see last assignment for an explanation.\n",
    "\n",
    "Space complexity is in my case the same for DFS and Greedy (11 Nodes) and 47 nodes for BFS.\n",
    "\"\"\""
   ]
  },
  {
   "cell_type": "markdown",
   "metadata": {
    "id": "B_bmxIXzaGxf"
   },
   "source": [
    "## Task 4\n",
    "\n",
    "Run a Greedy Best First Search (again) but this time print the path cost (uncomment the print statement and fill in the right variable.)\n",
    "\n",
    "(Hint: Go into utils.py, in class Node you can see a variable that should help you. Remember that a -successful- search returns a Node which is saved as 'search' here)"
   ]
  },
  {
   "cell_type": "code",
   "execution_count": 17,
   "metadata": {
    "colab": {
     "base_uri": "https://localhost:8080/"
    },
    "id": "BWWaGIUZaGxf",
    "outputId": "68ee20e8-036c-4f51-b41d-fe3ebfd47dcd"
   },
   "outputs": [
    {
     "name": "stdout",
     "output_type": "stream",
     "text": [
      "Search succesful!\n",
      "4 paths have been expanded and 7 paths remain in the frontier\n",
      "solution: [0, 2, 6, 5]\n",
      "11 Nodes generated\n",
      "Path cost: 191\n"
     ]
    }
   ],
   "source": [
    "search = greedy_best_first_search(p, p.h)\n",
    "\n",
    "print(\"Path cost: {}\".format(search.path_cost))"
   ]
  },
  {
   "cell_type": "markdown",
   "metadata": {
    "id": "wwUfInRlaGxh"
   },
   "source": [
    "### A* Search algorithm\n",
    "\n",
    "See the code for the A star search below:"
   ]
  },
  {
   "cell_type": "code",
   "execution_count": 18,
   "metadata": {
    "id": "5OHiQdjxaGxh"
   },
   "outputs": [],
   "source": [
    "def astar_search(problem, h=None, display=True):\n",
    "    \"\"\"A* search is best-first graph search with f(n) = g(n)+h(n).\n",
    "    You need to specify the h function when you call astar_search, or\n",
    "    else in your Problem subclass.\"\"\"\n",
    "    h = memoize(problem.h, 'h')\n",
    "    return greedy_best_first_search(problem, lambda n: n.path_cost + h(n), display)"
   ]
  },
  {
   "cell_type": "markdown",
   "metadata": {
    "id": "_rGTP7JSaGxj"
   },
   "source": [
    "## Task 5\n",
    "\n",
    "Consider the the solution of a greedy best first search and an a star search:"
   ]
  },
  {
   "cell_type": "code",
   "execution_count": 19,
   "metadata": {
    "colab": {
     "base_uri": "https://localhost:8080/"
    },
    "id": "_bZeQy1FaGxk",
    "outputId": "6d0f987a-ce8c-4cb5-9dbb-816deeef0971"
   },
   "outputs": [
    {
     "name": "stdout",
     "output_type": "stream",
     "text": [
      "Greedy Best First Search: \n",
      "Search succesful!\n",
      "4 paths have been expanded and 7 paths remain in the frontier\n",
      "solution: [0, 2, 6, 5]\n",
      "11 Nodes generated\n",
      "Path cost: 191\n",
      "A Star Search: \n",
      "Search succesful!\n",
      "28 paths have been expanded and 13 paths remain in the frontier\n",
      "solution: [16, 4, 6, 2]\n",
      "41 Nodes generated\n",
      "Path cost: 135\n"
     ]
    }
   ],
   "source": [
    "print(\"Greedy Best First Search: \")\n",
    "gbf=greedy_best_first_search(p, p.h, True)\n",
    "print(\"Path cost: {}\".format(gbf.path_cost))\n",
    "\n",
    "print(\"A Star Search: \")\n",
    "ast=astar_search(p)\n",
    "print(\"Path cost: {}\".format(ast.path_cost))\n"
   ]
  },
  {
   "cell_type": "markdown",
   "metadata": {
    "id": "9INmM04qaGxm"
   },
   "source": [
    "Explain in your own words what the difference between the two algorithms is, and why the solutions differ. Return your explanation to the multi line string below:"
   ]
  },
  {
   "cell_type": "code",
   "execution_count": 20,
   "metadata": {
    "id": "jgFsHcxSaGxm"
   },
   "outputs": [],
   "source": [
    "myExplanation = \"\"\"\n",
    "Whereas Greedy finds a solution fast, A-Star finds the optimal solution in which \n",
    "optimal is the one with the lowest path cost. \n",
    "This is because Greedy uses the distance to the goal as a heuristic and \n",
    "A-Star the distance between the initial state and the goal over the node the \n",
    "heuristic is calculated for.\n",
    "\"\"\""
   ]
  },
  {
   "cell_type": "markdown",
   "metadata": {
    "id": "Sfo7bsfDaGxo"
   },
   "source": [
    "## Task 6\n",
    "\n",
    "Implement the second heuristic as described on Canvas in the customHeuristic function. Remove the multi line string quotation marks when done to run."
   ]
  },
  {
   "cell_type": "code",
   "execution_count": 34,
   "metadata": {
    "colab": {
     "base_uri": "https://localhost:8080/"
    },
    "id": "etpEPzEXaGxo",
    "outputId": "a7d324b7-7edb-4cb5-c67f-b0c842d9ee6d"
   },
   "outputs": [
    {
     "name": "stdout",
     "output_type": "stream",
     "text": [
      "Search succesful!\n",
      "18 paths have been expanded and 14 paths remain in the frontier\n",
      "solution: [16, 4, 6, 5, 13]\n",
      "32 Nodes generated\n"
     ]
    },
    {
     "data": {
      "text/plain": [
       "<Node [0 9][ 2  3 11]>"
      ]
     },
     "execution_count": 34,
     "metadata": {
      "tags": []
     },
     "output_type": "execute_result"
    }
   ],
   "source": [
    "def customHeuristic(n=lambda n:n): \n",
    "\n",
    "    mincost=get_mincost(n.state)\n",
    "    average_value=get_average_value(n.state)\n",
    "\n",
    "    return mincost-average_value\n",
    "\n",
    "def get_mincost(s):\n",
    "  \n",
    "  sum=0\n",
    "\n",
    "  for i in range(1, len(s.allCards)):\n",
    "    sum+=i\n",
    "\n",
    "  return 2 * sum\n",
    "\n",
    "def get_average_value(s):\n",
    "\n",
    "  values=s.allCardPoints\n",
    "\n",
    "  total=0\n",
    "\n",
    "  for value in values:\n",
    "    total+=value\n",
    "\n",
    "  return total/len(values)\n",
    "\n",
    "p.h = customHeuristic\n",
    "\n",
    "astar_search(p, p.h)\n",
    "\n"
   ]
  },
  {
   "cell_type": "markdown",
   "metadata": {
    "id": "b49FHUMnaGxq"
   },
   "source": [
    "## Task 7 (Optional)\n",
    "\n",
    "Try to find a better heuristics than h1 and h2 and implement them as you did above. "
   ]
  },
  {
   "cell_type": "code",
   "execution_count": null,
   "metadata": {
    "id": "WRKRTDEgaGxq"
   },
   "outputs": [],
   "source": []
  },
  {
   "cell_type": "code",
   "execution_count": null,
   "metadata": {
    "id": "2UjCtBgdaGxs"
   },
   "outputs": [],
   "source": []
  }
 ],
 "metadata": {
  "colab": {
   "name": "det290+Assignment2.ipynb",
   "provenance": [],
   "toc_visible": true
  },
  "kernelspec": {
   "display_name": "Python 3",
   "language": "python",
   "name": "python3"
  },
  "language_info": {
   "codemirror_mode": {
    "name": "ipython",
    "version": 3
   },
   "file_extension": ".py",
   "mimetype": "text/x-python",
   "name": "python",
   "nbconvert_exporter": "python",
   "pygments_lexer": "ipython3",
   "version": "3.8.2"
  }
 },
 "nbformat": 4,
 "nbformat_minor": 1
}
