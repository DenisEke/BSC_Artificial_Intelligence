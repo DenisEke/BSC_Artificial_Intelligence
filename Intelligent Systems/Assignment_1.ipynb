{
 "cells": [
  {
   "cell_type": "markdown",
   "metadata": {
    "id": "EXmFoSG21Hgl"
   },
   "source": [
    "# Intelligent Systems 2020: First practical assignment \n",
    "## Uninformed Search "
   ]
  },
  {
   "cell_type": "markdown",
   "metadata": {
    "id": "M3cj2VMi1Hgm"
   },
   "source": [
    "Your name: Denis Ekert\n",
    "\n",
    "Your VUNetID: det290\n",
    "\n",
    "If you do not provide your name and VUNetID we will not accept your submission. \n",
    "\n",
    "### Learning objectives\n",
    "At the end of this exercise you should be able to understand the implementations of the basic algorithms for uninformed search, BFS, and DFS. You should be able to: \n",
    "\n",
    "1. Understand the algorithms (be able to explain in your own words) \n",
    "2. Follow the individual steps of the algorithms \n",
    "3. Make small modifications of the code to see the effect on the search algorithms\n",
    "4. Make small adaptations to the algorithm to study the computational properties\n",
    "\n",
    "### Practicalities\n",
    "\n",
    "Follow this Notebook step-by-step. \n",
    "\n",
    "Of course, you can do the exercises in any Programming Editor of your liking. \n",
    "But you do not have to. Feel free to simply write code in the Notebook. Please use your studentID+Assignment1.ipynb as the name of the \n",
    "Notebook.  \n",
    "\n",
    "Note: unlike the courses dedicated to programming we will not evaluate the style of the programs. But we will, however, test your programs on other data that we provide, and your program should give the correct output to the test-data as well.\n",
    "\n",
    "As was mentioned, the assignment is graded as pass/fail. To pass you need to have either a full working code or an explanation of what you tried and what didn't work for the tasks that you were unable to complete (you can use multi-line comments or a text cell).\n",
    "\n",
    "## Initialising \n",
    "\n",
    "First, let us make sure the necessary packages are installed, and imported. Run the following code:"
   ]
  },
  {
   "cell_type": "code",
   "execution_count": 1,
   "metadata": {
    "colab": {
     "base_uri": "https://localhost:8080/"
    },
    "id": "2vA_v_XR1Hgn",
    "outputId": "384fb5fe-3fa4-4efe-ce3a-58920b766af8"
   },
   "outputs": [
    {
     "name": "stdout",
     "output_type": "stream",
     "text": [
      "Requirement already satisfied: numpy in c:\\python38\\lib\\site-packages (1.18.3)\n"
     ]
    },
    {
     "name": "stderr",
     "output_type": "stream",
     "text": [
      "WARNING: You are using pip version 20.2.3; however, version 20.2.4 is available.\n",
      "You should consider upgrading via the 'c:\\python38\\python.exe -m pip install --upgrade pip' command.\n"
     ]
    }
   ],
   "source": [
    "import sys\n",
    "!{sys.executable} -m pip install numpy\n",
    "import datetime\n",
    "import numpy as np\n",
    "from numpy import random\n",
    "from collections import deque\n",
    "\n",
    "from utils import *\n",
    "\n",
    "# This might produce a warning that numpy is already installed. "
   ]
  },
  {
   "cell_type": "markdown",
   "metadata": {
    "id": "c03e78CH1Hgp"
   },
   "source": [
    "## Starting your first game"
   ]
  },
  {
   "cell_type": "code",
   "execution_count": 3,
   "metadata": {
    "id": "mF_jsmA61Hgq"
   },
   "outputs": [],
   "source": [
    "HAND_SIZE = 5     \n",
    "STUDENT_NUMBER = 2716396"
   ]
  },
  {
   "cell_type": "markdown",
   "metadata": {
    "id": "V0CpGGlF1Hgt"
   },
   "source": [
    "With the constant HAND_SIZE we decide how many cards we want in our hand. \n",
    "By default it is set to 5, you can change it to any hand size, \n",
    "do keep in mind that the higher the number of cards in your hand, \n",
    "the more branches in the search tree there are, and the longer it will take to run.\n",
    "\n",
    "Your student number is used to set a random seed.\n",
    "There are situations imaginable where you want a pseudo random selection (for example when debugging it's nice to always work with the same values)\n",
    "In short, the seed ensures that you get a pseudo random distribution that will always be the same when you re-run the code.\n",
    "It is a random distribution because you don't have to hard code them in yourself, \n",
    "but it is not random in the sense that the next time you run it you get different cards!\n",
    "For more information on pseudo random number generators, \n",
    "check out https://www.geeksforgeeks.org/pseudo-random-number-generator-prng/."
   ]
  },
  {
   "cell_type": "markdown",
   "metadata": {
    "id": "ShzgWgQw1Hgt"
   },
   "source": [
    "### Task 1\n",
    "\n",
    "You may wonder how the cards for this game are represented. \n",
    "Go to utils and find out in which variable this information is found, print this variable below:\n"
   ]
  },
  {
   "cell_type": "code",
   "execution_count": 4,
   "metadata": {
    "colab": {
     "base_uri": "https://localhost:8080/"
    },
    "id": "DRNYFHgr1Hgt",
    "outputId": "372ad19b-bacc-4e8c-954a-76b48b1b32c8"
   },
   "outputs": [
    {
     "name": "stdout",
     "output_type": "stream",
     "text": [
      "\n",
      "        h  d  s  c\n",
      "ace  [[ 0  1  2  3]  h = hearts\n",
      "ten   [ 4  5  6  7]  d = diamonds\n",
      "king  [ 8  9 10 11]  s = spades\n",
      "queen [12 13 14 15]  c = clubs\n",
      "jack  [16 17 18 19]]\n",
      "\n",
      "For example: '10' is 'king of spades'\n",
      "\n"
     ]
    }
   ],
   "source": [
    "#print represantation of cards\n",
    "print(representation)"
   ]
  },
  {
   "cell_type": "markdown",
   "metadata": {
    "id": "h227PG871Hgw"
   },
   "source": [
    "## Some support functions"
   ]
  },
  {
   "cell_type": "markdown",
   "metadata": {
    "id": "42cawRBj1Hgw"
   },
   "source": [
    "Next, there are some functions we need for the implementation. Try to get the gist of what they do, but if you do not understand fully, don't worry. The first one tests whether a move is valid (so whether a card follows suit, or has the same value). The second is a helper function that checks whether two cards have the same suit, and the third function checks whether two cards have the same value. The last one makes a random choice of cards in the hands. \n",
    "\n",
    "We don't expect you to fully understand the coding behind these functions, however, if you are interested you might find the following link useful: https://www.programiz.com/python-programming/matrix. Take a look at how Python Matrices are created and how to access rows and columns. "
   ]
  },
  {
   "cell_type": "code",
   "execution_count": 5,
   "metadata": {
    "id": "0eQPM1L61Hgx"
   },
   "outputs": [],
   "source": [
    "def valid_move(cardA, cardB):\n",
    "    #print(\"validMove: comparing \" + str(cardA) + \" to \" + str(cardB)) UNCOMMENT THIS TO SEE WHICH CARDS ARE BEING COMPARED\n",
    "    g = np.arange(20).reshape(5, 4) #this produces the same grid as the representation, for the purpose of checking moves\n",
    "    if check_value(cardA, cardB, g):\n",
    "        return True\n",
    "    elif check_suit(cardA, cardB, g):\n",
    "        return True\n",
    "    else:\n",
    "        #print(\"validMove: No move found\")\n",
    "        return False\n",
    "\n",
    "def check_suit(cardA, cardB, grid):\n",
    "    r, c = grid.shape\n",
    "    for i in range(c):\n",
    "        if np.any(grid[:, i] == cardA) and np.any(grid[:, i] == cardB):\n",
    "            return True\n",
    "\n",
    "def check_value(cardA, cardB, grid):\n",
    "    r, c = grid.shape\n",
    "    for i in range(r):\n",
    "        if np.any(grid[i] == cardA) and np.any(grid[i] == cardB):\n",
    "            return True\n",
    "\n",
    "def pick_cards(seed, size):\n",
    "    random.seed(seed)\n",
    "    cards = np.random.choice(20, (size*2), replace = False)\n",
    "    leftHand = cards[:size]\n",
    "    rightHand = cards[size:]\n",
    "    return (leftHand, rightHand)"
   ]
  },
  {
   "cell_type": "markdown",
   "metadata": {
    "id": "x-U7pwkU1Hgz"
   },
   "source": [
    "## Main Search algorithms"
   ]
  },
  {
   "cell_type": "markdown",
   "metadata": {
    "id": "aq8LGAQJ1Hgz"
   },
   "source": [
    "Now it is time to define BFS. Try to understand the implementation. It is as close to the pseudocode presented in class as possible.\n"
   ]
  },
  {
   "cell_type": "code",
   "execution_count": 6,
   "metadata": {
    "id": "sFPBVEuu1Hg0"
   },
   "outputs": [],
   "source": [
    "def breadth_first_tree_search(problem):\n",
    "    \"\"\"\n",
    "    Search the shallowest nodes in the search tree first.\n",
    "    Search through the successors of a problem to find a goal.\n",
    "    The argument fringe should be an empty queue.\n",
    "    Repeats infinitely in case of loops.\n",
    "    \"\"\"\n",
    "\n",
    "    fringe = deque([Node(problem.initial)])  # FIFO queue\n",
    "    while fringe:\n",
    "        node = fringe.popleft()\n",
    "        if problem.goal_test(node.state):\n",
    "            print(\"###########\")\n",
    "            print(\"success!\")\n",
    "            print(\"The solution is: {}\".format(node.solution()))\n",
    "            return node\n",
    "        fringe.extend(node.expand(problem))\n",
    "    print(\"###########\")\n",
    "    print(\"unfortunately no solution has been found!\")\n",
    "    return None"
   ]
  },
  {
   "cell_type": "markdown",
   "metadata": {
    "id": "lpfa_mxf1Hg2"
   },
   "source": [
    "And here comes DFS. Again, check out the code, and look at the difference between the two implementations. "
   ]
  },
  {
   "cell_type": "code",
   "execution_count": 7,
   "metadata": {
    "id": "KHWYC6u-1Hg3"
   },
   "outputs": [],
   "source": [
    "def depth_first_tree_search(problem):\n",
    "    \"\"\"\n",
    "    Search the deepest nodes in the search tree first.\n",
    "    Search through the successors of a problem to find a goal.\n",
    "    The argument fringe should be an empty queue.\n",
    "    Repeats infinitely in case of loops.\n",
    "    \"\"\"\n",
    "\n",
    "    fringe = [Node(problem.initial)]  # Stack\n",
    "    while fringe:\n",
    "        node = fringe.pop()\n",
    "        if problem.goal_test(node.state):\n",
    "            print(\"###########\")\n",
    "            print(\"succes!\")\n",
    "            print(\"solution: {}\".format(node.solution()))\n",
    "            return node\n",
    "        fringe.extend(node.expand(problem))\n",
    "    print(\"###########\")\n",
    "    print(\"unfortunately no solution has been found!\")\n",
    "    return None"
   ]
  },
  {
   "cell_type": "markdown",
   "metadata": {
    "id": "91t1EuWm1Hg5"
   },
   "source": [
    "### Task 2\n",
    "Explain in your own words the difference between the implementations. Write your explanation into the following cell:"
   ]
  },
  {
   "cell_type": "markdown",
   "metadata": {
    "id": "DwukCCc71Hg6"
   },
   "source": [
    "Altough I am not sure what deque does and what exactly popleft means I think I am able to explain it because of the way those algorithms should work. The difference is basically that in BFS we have a FIFO structure and this means that we will go layer by layer deeper into the Tree. Whereas in DFS we have a stack which is a FILO (First-in last-out) structure. This means that we will go deeper in the tree first. Depending on the fringe.extend function we will either first traverse the left side or the right side of the tree in DFS."
   ]
  },
  {
   "cell_type": "markdown",
   "metadata": {
    "id": "K-giezV-1Hg6"
   },
   "source": [
    "The cell below generates the cards for your left and right hand."
   ]
  },
  {
   "cell_type": "code",
   "execution_count": 8,
   "metadata": {
    "colab": {
     "base_uri": "https://localhost:8080/"
    },
    "id": "6ORjAgYc1Hg6",
    "outputId": "489fb982-f2c2-455c-dae8-6b9c2a0f60ff"
   },
   "outputs": [
    {
     "name": "stdout",
     "output_type": "stream",
     "text": [
      "Right hand: [ 2  5  3 11  4]\n",
      "Left hand: [13 16  6  0  9]\n"
     ]
    }
   ],
   "source": [
    "leftHand, rightHand = pick_cards(STUDENT_NUMBER, HAND_SIZE)\n",
    "\n",
    "\n",
    "print(\"Right hand: {}\".format(rightHand))\n",
    "print(\"Left hand: {}\".format(leftHand))"
   ]
  },
  {
   "cell_type": "markdown",
   "metadata": {
    "id": "wlrQNPUE1Hg9"
   },
   "source": [
    "## Constructing your own game\n",
    "\n",
    "Of course you don't have to (always) use random cards, you can also choose your own set of cards. \n",
    "Just make sure the numbers (integers) in the arrays are unique and between 0 and 19. Uncomment and define the variable values. Also make sure that the array is of correct size (according to the previous tasks)."
   ]
  },
  {
   "cell_type": "code",
   "execution_count": 9,
   "metadata": {
    "id": "IkBPeHEi1Hg-"
   },
   "outputs": [],
   "source": [
    "#creating a custom set of cards because me student number seed makes an unsolvable game :(\n",
    "customLeftHand = [0, 8, 16, 13, 5]\n",
    "customRightHand = [4, 12, 17, 9, 1]\n",
    "\n",
    "#just to make it easier to create a solvable hand\n",
    "#print(representation)"
   ]
  },
  {
   "cell_type": "markdown",
   "metadata": {
    "id": "SszAgzgz1HhA"
   },
   "source": [
    "Here we specify our initial state of the problem. Again, uncomment and fill in/correct the code. "
   ]
  },
  {
   "cell_type": "code",
   "execution_count": 16,
   "metadata": {
    "id": "5wC5y2C91HhA"
   },
   "outputs": [],
   "source": [
    "#creates a gamestate with a given left and right hand. \n",
    "initialState = GameState(customLeftHand, customRightHand, True)"
   ]
  },
  {
   "cell_type": "markdown",
   "metadata": {
    "id": "1jK2B7oz1HhD"
   },
   "source": [
    "### Task 3\n",
    "Look in the utils file how you can print the state, \n",
    "and print the initial state below (make sure you've specified HAND_SIZE and STUDENT_NUMBER or the custom hands).\n",
    "\n",
    "Hint: to call a function from a class use class.function(paramaters) or if the class was previously called use variable.function(). For more information check https://www.geeksforgeeks.org/python-call-function-from-another-function/.\n"
   ]
  },
  {
   "cell_type": "code",
   "execution_count": 12,
   "metadata": {
    "colab": {
     "base_uri": "https://localhost:8080/"
    },
    "id": "ZdAMIWm01HhD",
    "outputId": "901e95bf-6d86-4cf6-e62a-5c8ee0eba4f7"
   },
   "outputs": [
    {
     "name": "stdout",
     "output_type": "stream",
     "text": [
      "------\n",
      "GameState: Printing state: \n",
      "Left hand: [ 0  8 16 13  5]\n",
      "Right hand: [ 4 12 17  9  1]\n",
      "Do we play from left hand to get to next state? True\n",
      "------\n"
     ]
    },
    {
     "data": {
      "text/plain": [
       "'\\nFriendly Suggestion: \\nWe also have a intro to python course and there they want us to follow their conventions.\\nEventhough I am sure that there are no strict conventions in python our professor gave us \\nthe following guidelines: https://canvas.vu.nl/courses/48943/pages/code-guidelines .\\nMaybe there should be code-guidelines created for the whole programme. \\nA difference is that you use camelCase to write variable names whereas they enforce us to use snake_case.\\n\\n\\nI actually prefer camelCase ;)\\n'"
      ]
     },
     "execution_count": 12,
     "metadata": {
      "tags": []
     },
     "output_type": "execute_result"
    }
   ],
   "source": [
    "#Prints the initial state of the game\n",
    "initialState.printState()\n",
    "\n",
    "'''\n",
    "Friendly Suggestion: \n",
    "We also have a intro to python course and there they want us to follow their conventions.\n",
    "Eventhough I am sure that there are no strict conventions in python our professor gave us \n",
    "the following guidelines: https://canvas.vu.nl/courses/48943/pages/code-guidelines .\n",
    "Maybe there should be code-guidelines created for the whole programme. \n",
    "A difference is that you use camelCase to write variable names whereas they enforce us to use snake_case.\n",
    "\n",
    "\n",
    "I actually prefer camelCase ;)\n",
    "'''"
   ]
  },
  {
   "cell_type": "markdown",
   "metadata": {
    "id": "sWcxhYCb1HhF"
   },
   "source": [
    "This cell constructs the problem for your game."
   ]
  },
  {
   "cell_type": "code",
   "execution_count": 13,
   "metadata": {
    "id": "jEOTORl21HhG"
   },
   "outputs": [],
   "source": [
    "p = Problem(initialState)"
   ]
  },
  {
   "cell_type": "markdown",
   "metadata": {
    "id": "QB09F1UZ1HhI"
   },
   "source": [
    "We can now run experiments on how long the search took by looking at the time difference in microseconds \n",
    "between the start and finish of the search.\n",
    "\n",
    "In case your game does not have a solution, you might want to try to run a custom-made set of hands as presented above."
   ]
  },
  {
   "cell_type": "code",
   "execution_count": 25,
   "metadata": {
    "colab": {
     "base_uri": "https://localhost:8080/"
    },
    "id": "YLvrrybv1HhJ",
    "outputId": "60de5141-1f3e-41eb-93c2-f4b24916614e"
   },
   "outputs": [
    {
     "name": "stdout",
     "output_type": "stream",
     "text": [
      "###########\n",
      "succes!\n",
      "solution: [(5, 4, 'L'), (1, 4, 'R'), (13, 3, 'L'), (9, 3, 'R'), (8, 1, 'L'), (12, 1, 'R'), (0, 0, 'L'), (17, 1, 'R'), (16, 0, 'L'), (4, 0, 'R')]\n",
      "The search took 5982 microseconds\n"
     ]
    }
   ],
   "source": [
    "startTime = datetime.datetime.now()\n",
    "\n",
    "#search = breadth_first_tree_search(p)\n",
    "search = depth_first_tree_search(p)\n",
    "\n",
    "endTime = datetime.datetime.now()\n",
    "\n",
    "duration = endTime-startTime\n",
    "print(\"The search took {} microseconds\".format(duration.microseconds))\n"
   ]
  },
  {
   "cell_type": "markdown",
   "metadata": {
    "id": "QVI469n-1HhL"
   },
   "source": [
    "### Task 4\n",
    "\n",
    "In the next section a text file will be generated. To ensure all answers are saved into it, it is important to follow the instructions carefully, especially when naming the variables!"
   ]
  },
  {
   "cell_type": "markdown",
   "metadata": {
    "id": "er5XPuFa1HhL"
   },
   "source": [
    "Using the representation matrix of the cards, think of a combination of two hands for which no solution would be found (minimal hand size = 3).\n",
    "\n",
    "To save your solution, declare two lists, named “noLeft” and “noRight” and populate them with suitable cards."
   ]
  },
  {
   "cell_type": "code",
   "execution_count": 27,
   "metadata": {
    "id": "46XNGnA71HhL"
   },
   "outputs": [],
   "source": [
    "noLeft = [0,1,2,3,4]\n",
    "noRight =[5,6,7,8,9]"
   ]
  },
  {
   "cell_type": "markdown",
   "metadata": {
    "id": "3mbQJM5y1HhO"
   },
   "source": [
    "### Task 5\n",
    "Implement a counter that counts how many nodes had to be generated before reaching a goal state. \n",
    "\n",
    "Run the Depth First Search algorithm based on your student number (set as seed) and hand size of 5. \n",
    "Have the algorithm return or print the counter. Save your solution in the variable below.\n",
    "\n",
    "Hint: take a look at the code of the algorithm and find where exactly the new node is generated."
   ]
  },
  {
   "cell_type": "code",
   "execution_count": 107,
   "metadata": {
    "colab": {
     "base_uri": "https://localhost:8080/"
    },
    "id": "p1e6vRlQ1HhO",
    "outputId": "3b60524d-7e3e-465a-9d4d-f5cc6e2ceec6"
   },
   "outputs": [
    {
     "name": "stdout",
     "output_type": "stream",
     "text": [
      "found solution!\n",
      "Had to generate 19 nodes.\n"
     ]
    }
   ],
   "source": [
    "def depth_first_tree_search_with_counter(problem):\n",
    "    \"\"\"\n",
    "    Search the deepest nodes in the search tree first.\n",
    "    Search through the successors of a problem to find a goal.\n",
    "    The argument fringe should be an empty queue.\n",
    "    Repeats infinitely in case of loops.\n",
    "    \"\"\"\n",
    "\n",
    "    #counts the amount of nodes generated\n",
    "    counter=0\n",
    "\n",
    "    fringe = [Node(problem.initial)]  # Stack\n",
    "    \n",
    "    while fringe:\n",
    "        node = fringe.pop()\n",
    "        if problem.goal_test(node.state):\n",
    "            #print(\"###########\")\n",
    "            print(\"found solution!\")\n",
    "            #print(\"solution: {}\".format(node.solution()))\n",
    "            return counter\n",
    "\n",
    "        #get the new nodes\n",
    "        generated_nodes=node.expand(problem)\n",
    "        #add the amount of them to the counter\n",
    "        counter+=len(generated_nodes)\n",
    "        #add them to the fringe\n",
    "        fringe.extend(generated_nodes)\n",
    "    print(\"###########\")\n",
    "    print(\"no solution\")\n",
    "    print(\"###########\")\n",
    "    return counter\n",
    "\n",
    "\n",
    "left_hand, right_hand = pick_cards(STUDENT_NUMBER, HAND_SIZE)\n",
    "gs=GameState(left_hand,right_hand,True)\n",
    "problem_for_node_counter=Problem(gs)\n",
    "nodeCount = depth_first_tree_search_with_counter(problem_for_node_counter)\n",
    "\n",
    "print(\"Had to generate \"+str(nodeCount)+\" nodes.\")"
   ]
  },
  {
   "cell_type": "markdown",
   "metadata": {
    "id": "FBmsySwZ1HhQ"
   },
   "source": [
    "### Task 6\n",
    "\n",
    "Report briefly on if (and if so, how):\n",
    "\n",
    "    * a) changing the order of the cards in your hand\n",
    "    * b) choosing depth first or breadth first search\n",
    "    \n",
    "   ...individually and combined have an influence on the running time and nodes generated. \n",
    "   Save this (brief!) report in a multi line string variable named “myReport”.\n",
    "   \n",
    "   Note: If your student number does not generate hands for which a solution can be found, \n",
    "   pick a custom hand (be sure to implement it above, and run all the cells again to make sure it gets executed properly)."
   ]
  },
  {
   "cell_type": "code",
   "execution_count": 139,
   "metadata": {
    "id": "CQB8o80R1HhR"
   },
   "outputs": [],
   "source": [
    "myReport = \"\"\"\n",
    "I suppose that both algorithms search from left to right. DFS always chooses the left node first and BFS goes layer by layer from left to right.\n",
    "The following conclusions only work for games like this where the goal results are all in the deepest layer.\n",
    "\n",
    "Order of cards:\n",
    "The order of cards has an influence on time in both algorithms. \n",
    "A change in order likely leads to the position of the most left goal state changing and therefore it will change the amount of nodes that need to be traversed.\n",
    "In this case the further left the first goal state the faster the search.\n",
    "\n",
    "The order has an influence on the space complexity of DFS only since BFS will go layer by layer and therefore always generate all the nodes \n",
    "while DFS will have to generate less nodes if the goal result is closer to the left.\n",
    "\n",
    "Choosing DFS or BFS:\n",
    "DFS is about 10 times faster than BFS which I not only noticed by measuring its time but it also can be concluded by the time complexity formulas of both algorithms.\n",
    "\"\"\"\n"
   ]
  },
  {
   "cell_type": "markdown",
   "metadata": {
    "id": "pZ1unik31HhT"
   },
   "source": [
    "### Task 7\n",
    "\n",
    "Using the representation of the cards and your knowledge of the search algorithms, \n",
    "define a pair of hands that will be faster with depth first search (hand size = 3).\n",
    "    \n",
    "Save your solution by declaring 2 lists named \"DFSL\" (left hand) and \"DFSR\" (right hand)."
   ]
  },
  {
   "cell_type": "code",
   "execution_count": 140,
   "metadata": {
    "id": "oUiyQq3Y1HhT"
   },
   "outputs": [],
   "source": [
    "#Every represantation has to be faster or equally fast in the worst worst case.\n",
    "DFSL = [0,8,16]\n",
    "DFSR = [4,12,17]"
   ]
  },
  {
   "cell_type": "markdown",
   "metadata": {
    "id": "DODqVIQB1HhV"
   },
   "source": [
    "### Task 8\n",
    "\n",
    "Explain why it is not possible to define a pair of hands such that Breadth First Search is faster than Depth First Search. Save your (brief) explanation as a multi-line string in the variable below"
   ]
  },
  {
   "cell_type": "code",
   "execution_count": 141,
   "metadata": {
    "id": "EqnOkGU71HhV"
   },
   "outputs": [],
   "source": [
    " MyReport2 = \"\"\"\n",
    " In the worst case both will take the equal time but for every other case \n",
    " DFS will be faster because the goal result will always be in the deepest layer.\n",
    " Because BFS goes layer by layer DFS will always reach the deeper goal states first since\n",
    " DFS goes into the depth first. \n",
    " \"\"\""
   ]
  },
  {
   "cell_type": "markdown",
   "metadata": {
    "id": "DPkSm9dy1HhX"
   },
   "source": [
    "### Final Task: Collect all the results\n",
    "\n",
    "Uncomment and run this cell (and all the cells above) to generate the text file that you have to hand in together with the notebook on canvas!"
   ]
  },
  {
   "cell_type": "code",
   "execution_count": 144,
   "metadata": {
    "id": "wbGS5FI_1HhY"
   },
   "outputs": [],
   "source": [
    "exportToText(STUDENT_NUMBER, noLeft, noRight, nodeCount, myReport, DFSL, DFSR, MyReport2)"
   ]
  },
  {
   "cell_type": "markdown",
   "metadata": {
    "id": "igKJbWEq1Hha"
   },
   "source": []
  }
 ],
 "metadata": {
  "colab": {
   "name": "uninformed search v_2.ipynb",
   "provenance": [],
   "toc_visible": true
  },
  "kernelspec": {
   "display_name": "Python 3",
   "language": "python",
   "name": "python3"
  },
  "language_info": {
   "codemirror_mode": {
    "name": "ipython",
    "version": 3
   },
   "file_extension": ".py",
   "mimetype": "text/x-python",
   "name": "python",
   "nbconvert_exporter": "python",
   "pygments_lexer": "ipython3",
   "version": "3.8.2"
  }
 },
 "nbformat": 4,
 "nbformat_minor": 1
}
